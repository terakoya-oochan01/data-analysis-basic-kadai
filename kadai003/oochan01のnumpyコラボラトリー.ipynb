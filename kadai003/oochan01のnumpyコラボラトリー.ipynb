{
  "nbformat": 4,
  "nbformat_minor": 0,
  "metadata": {
    "colab": {
      "provenance": [],
      "gpuType": "T4"
    },
    "kernelspec": {
      "name": "python3",
      "display_name": "Python 3"
    },
    "language_info": {
      "name": "python"
    },
    "accelerator": "GPU"
  },
  "cells": [
    {
      "cell_type": "code",
      "execution_count": 2,
      "metadata": {
        "colab": {
          "base_uri": "https://localhost:8080/"
        },
        "id": "eAN0FdgjBz2C",
        "outputId": "f1d0e3e0-eaa3-472c-d63e-63752b95fae8"
      },
      "outputs": [
        {
          "output_type": "execute_result",
          "data": {
            "text/plain": [
              "array([1, 2, 3])"
            ]
          },
          "metadata": {},
          "execution_count": 2
        }
      ],
      "source": [
        "#3-2 一次元配列の作成\n",
        "\n",
        "import numpy as np\n",
        "narray = np.array([1, 2, 3])\n",
        "narray\n"
      ]
    },
    {
      "cell_type": "code",
      "source": [
        "# 一次元配列のサイズの確認\n",
        "narray.size"
      ],
      "metadata": {
        "colab": {
          "base_uri": "https://localhost:8080/"
        },
        "id": "NnHNkDj_FZCO",
        "outputId": "c78cf572-acf1-41d5-ccc3-24d027eae2ec"
      },
      "execution_count": 2,
      "outputs": [
        {
          "output_type": "execute_result",
          "data": {
            "text/plain": [
              "3"
            ]
          },
          "metadata": {},
          "execution_count": 2
        }
      ]
    },
    {
      "cell_type": "code",
      "source": [
        "# 一次元配列の型の確認\n",
        "type(narray)"
      ],
      "metadata": {
        "colab": {
          "base_uri": "https://localhost:8080/"
        },
        "id": "ntR-VN0THJ6-",
        "outputId": "f22e5383-acae-4862-b653-464469af1595"
      },
      "execution_count": 3,
      "outputs": [
        {
          "output_type": "execute_result",
          "data": {
            "text/plain": [
              "numpy.ndarray"
            ]
          },
          "metadata": {},
          "execution_count": 3
        }
      ]
    },
    {
      "cell_type": "code",
      "source": [
        "nones = np.ones(10)\n",
        "nones"
      ],
      "metadata": {
        "colab": {
          "base_uri": "https://localhost:8080/"
        },
        "id": "PEygzxJUL4Xh",
        "outputId": "9d30ea58-6f5d-4d73-f8fd-999619ebe193"
      },
      "execution_count": 4,
      "outputs": [
        {
          "output_type": "execute_result",
          "data": {
            "text/plain": [
              "array([1., 1., 1., 1., 1., 1., 1., 1., 1., 1.])"
            ]
          },
          "metadata": {},
          "execution_count": 4
        }
      ]
    },
    {
      "cell_type": "code",
      "source": [
        "type(nones)"
      ],
      "metadata": {
        "colab": {
          "base_uri": "https://localhost:8080/"
        },
        "id": "db0yipHRMBmP",
        "outputId": "874d7381-1770-4b61-a11c-93e4cbe0ba4b"
      },
      "execution_count": 5,
      "outputs": [
        {
          "output_type": "execute_result",
          "data": {
            "text/plain": [
              "numpy.ndarray"
            ]
          },
          "metadata": {},
          "execution_count": 5
        }
      ]
    },
    {
      "cell_type": "code",
      "source": [
        "multi_array = np.array([[0, 1, 2],[3, 4, 5],[6, 7, 8, 9]])\n",
        "multi_array"
      ],
      "metadata": {
        "colab": {
          "base_uri": "https://localhost:8080/"
        },
        "id": "D4r3c6gTMdGU",
        "outputId": "282b741e-2796-4773-9448-c2d67370b645"
      },
      "execution_count": 9,
      "outputs": [
        {
          "output_type": "stream",
          "name": "stderr",
          "text": [
            "<ipython-input-9-604c1fd5ffd8>:1: VisibleDeprecationWarning: Creating an ndarray from ragged nested sequences (which is a list-or-tuple of lists-or-tuples-or ndarrays with different lengths or shapes) is deprecated. If you meant to do this, you must specify 'dtype=object' when creating the ndarray.\n",
            "  multi_array = np.array([[0, 1, 2],[3, 4, 5],[6, 7, 8, 9]])\n"
          ]
        },
        {
          "output_type": "execute_result",
          "data": {
            "text/plain": [
              "array([list([0, 1, 2]), list([3, 4, 5]), list([6, 7, 8, 9])], dtype=object)"
            ]
          },
          "metadata": {},
          "execution_count": 9
        }
      ]
    },
    {
      "cell_type": "code",
      "source": [
        "# 乱数の作成\n",
        "np.random.rand(3, 3)"
      ],
      "metadata": {
        "colab": {
          "base_uri": "https://localhost:8080/"
        },
        "id": "VmSJXyLXODYP",
        "outputId": "6f2767e8-b8d2-430e-e45d-d86ccd1ddd4a"
      },
      "execution_count": 13,
      "outputs": [
        {
          "output_type": "execute_result",
          "data": {
            "text/plain": [
              "array([[0.71533315, 0.28864382, 0.38922903],\n",
              "       [0.10275727, 0.0110941 , 0.31046605],\n",
              "       [0.37630033, 0.51346873, 0.28164574]])"
            ]
          },
          "metadata": {},
          "execution_count": 13
        }
      ]
    },
    {
      "cell_type": "code",
      "source": [
        "np.random.randint(1, 10)\n"
      ],
      "metadata": {
        "colab": {
          "base_uri": "https://localhost:8080/"
        },
        "id": "UGtrypt1UDp0",
        "outputId": "0d2623f8-adaa-45f3-d491-f32355091cb9"
      },
      "execution_count": 15,
      "outputs": [
        {
          "output_type": "execute_result",
          "data": {
            "text/plain": [
              "9"
            ]
          },
          "metadata": {},
          "execution_count": 15
        }
      ]
    },
    {
      "cell_type": "code",
      "source": [
        "# 整数の乱数で一次元配列の作成\n",
        "np.random.randint(1, 10, (5,))"
      ],
      "metadata": {
        "colab": {
          "base_uri": "https://localhost:8080/"
        },
        "id": "q0poa3wsREEY",
        "outputId": "d0a7af75-6883-4915-ce5b-8fa764bdd19d"
      },
      "execution_count": 64,
      "outputs": [
        {
          "output_type": "execute_result",
          "data": {
            "text/plain": [
              "array([1, 6, 7, 7, 8])"
            ]
          },
          "metadata": {},
          "execution_count": 64
        }
      ]
    },
    {
      "cell_type": "code",
      "source": [
        "np.random.randint(1, 10, (5,5))"
      ],
      "metadata": {
        "colab": {
          "base_uri": "https://localhost:8080/"
        },
        "id": "hMPj0pmqRaoQ",
        "outputId": "15ed1a3e-4c14-4a1d-d1c6-a4668bcc9521"
      },
      "execution_count": 16,
      "outputs": [
        {
          "output_type": "execute_result",
          "data": {
            "text/plain": [
              "array([[6, 5, 3, 9, 5],\n",
              "       [9, 4, 9, 7, 2],\n",
              "       [3, 7, 7, 8, 1],\n",
              "       [5, 5, 6, 1, 1],\n",
              "       [5, 1, 3, 3, 5]])"
            ]
          },
          "metadata": {},
          "execution_count": 16
        }
      ]
    },
    {
      "cell_type": "code",
      "source": [
        "random_multi_array = np.random.randint(1, 10, (5,5))\n",
        "random_multi_array"
      ],
      "metadata": {
        "colab": {
          "base_uri": "https://localhost:8080/"
        },
        "id": "7UMxiPOiUMw9",
        "outputId": "51d8058b-6916-4ea8-ccbc-9d5c2c263a85"
      },
      "execution_count": 17,
      "outputs": [
        {
          "output_type": "execute_result",
          "data": {
            "text/plain": [
              "array([[6, 8, 6, 7, 3],\n",
              "       [8, 9, 9, 1, 3],\n",
              "       [9, 9, 7, 5, 8],\n",
              "       [9, 7, 6, 6, 3],\n",
              "       [5, 5, 9, 3, 7]])"
            ]
          },
          "metadata": {},
          "execution_count": 17
        }
      ]
    },
    {
      "cell_type": "code",
      "source": [
        "random_multi_array.max()"
      ],
      "metadata": {
        "colab": {
          "base_uri": "https://localhost:8080/"
        },
        "id": "MqLsnkUAR5sw",
        "outputId": "36ef63bc-b83a-4568-9b75-3904b6d6a908"
      },
      "execution_count": 18,
      "outputs": [
        {
          "output_type": "execute_result",
          "data": {
            "text/plain": [
              "9"
            ]
          },
          "metadata": {},
          "execution_count": 18
        }
      ]
    },
    {
      "cell_type": "code",
      "source": [
        "random_multi_array.min()"
      ],
      "metadata": {
        "colab": {
          "base_uri": "https://localhost:8080/"
        },
        "id": "cgPL1vFgTOMH",
        "outputId": "d734fdc4-ce39-4c9f-bc7d-ed20aaef2468"
      },
      "execution_count": 68,
      "outputs": [
        {
          "output_type": "execute_result",
          "data": {
            "text/plain": [
              "1"
            ]
          },
          "metadata": {},
          "execution_count": 68
        }
      ]
    },
    {
      "cell_type": "code",
      "source": [
        "# スライシング\n",
        "random_array = np.random.randint(1, 10, (10,))\n",
        "random_array"
      ],
      "metadata": {
        "colab": {
          "base_uri": "https://localhost:8080/"
        },
        "id": "qjIYCXcEUkt9",
        "outputId": "7289cdcd-9543-477d-da62-eee7cb505846"
      },
      "execution_count": 19,
      "outputs": [
        {
          "output_type": "execute_result",
          "data": {
            "text/plain": [
              "array([4, 5, 2, 1, 2, 7, 8, 9, 3, 5])"
            ]
          },
          "metadata": {},
          "execution_count": 19
        }
      ]
    },
    {
      "cell_type": "code",
      "source": [
        "# 次に、先頭から3つの要素を取得しましょう。インデックスで表すならば、インデックスが0から2までの要素を取得します。\n",
        "# これは、コロン（:）を使って次のように書きます。\n",
        "random_array[0:3]"
      ],
      "metadata": {
        "colab": {
          "base_uri": "https://localhost:8080/"
        },
        "id": "1yhXV4bm3tYb",
        "outputId": "f57c7630-ea2f-471d-b269-2be10082ff1c"
      },
      "execution_count": 22,
      "outputs": [
        {
          "output_type": "execute_result",
          "data": {
            "text/plain": [
              "array([4, 5, 2])"
            ]
          },
          "metadata": {},
          "execution_count": 22
        }
      ]
    },
    {
      "cell_type": "code",
      "source": [
        "# 3.5 配列の結合\n",
        "# 「最終的な出力を結合して予測の答えとしたい」というようなこと\n",
        "# 配列aと配列bを作り、結合するにはnumpy.concatenateメソッドを以下のように使う\n",
        "a  = np.array([1, 2, 3])\n",
        "b = np.array([4, 5, 6])\n",
        "np.concatenate((a, b))"
      ],
      "metadata": {
        "colab": {
          "base_uri": "https://localhost:8080/"
        },
        "id": "PsMLbYuB4Aki",
        "outputId": "b23438e1-ed2e-4a2f-fac2-aa4f1dc56702"
      },
      "execution_count": 23,
      "outputs": [
        {
          "output_type": "execute_result",
          "data": {
            "text/plain": [
              "array([1, 2, 3, 4, 5, 6])"
            ]
          },
          "metadata": {},
          "execution_count": 23
        }
      ]
    },
    {
      "cell_type": "code",
      "source": [
        "# 多次元配列として3x2の形にしてみましょう。行で結合するには、axis=0を次のように引数として渡します\n",
        "a = np.array([[1, 2, 3]])\n",
        "b = np.array([[4, 5, 6]])\n",
        "\n",
        "np.concatenate((a, b), axis=0)"
      ],
      "metadata": {
        "colab": {
          "base_uri": "https://localhost:8080/"
        },
        "id": "wBoZEaLX4khC",
        "outputId": "48456dbb-ec9f-4cd5-d009-02a6b163beb3"
      },
      "execution_count": 25,
      "outputs": [
        {
          "output_type": "execute_result",
          "data": {
            "text/plain": [
              "array([[1, 2, 3],\n",
              "       [4, 5, 6]])"
            ]
          },
          "metadata": {},
          "execution_count": 25
        }
      ]
    },
    {
      "cell_type": "code",
      "source": [
        "# NumPyでの足し算を行うためにnumpy.onesメソッドを使って、サイズが3の一次元配列を作ります。\n",
        "\n",
        "three = np.ones(3)\n",
        "three"
      ],
      "metadata": {
        "colab": {
          "base_uri": "https://localhost:8080/"
        },
        "id": "jH1-T5orL92i",
        "outputId": "8dcc304a-c521-4439-b717-5179d786f24a"
      },
      "execution_count": 8,
      "outputs": [
        {
          "output_type": "execute_result",
          "data": {
            "text/plain": [
              "array([1., 1., 1.])"
            ]
          },
          "metadata": {},
          "execution_count": 8
        }
      ]
    },
    {
      "cell_type": "code",
      "source": [
        "# NumPyのブロードキャスト機能を使って3を足してみましょう。このブロードキャストは、以下の画像のようになります。\n",
        "three + 3"
      ],
      "metadata": {
        "colab": {
          "base_uri": "https://localhost:8080/"
        },
        "id": "jLCQXCw0MhzV",
        "outputId": "f06fbcf4-752a-4796-e360-b0c4cc36edfc"
      },
      "execution_count": 5,
      "outputs": [
        {
          "output_type": "execute_result",
          "data": {
            "text/plain": [
              "array([4., 4., 4.])"
            ]
          },
          "metadata": {},
          "execution_count": 5
        }
      ]
    },
    {
      "cell_type": "code",
      "source": [
        "# 多次元配列の足し算\n",
        "# numpy.arangeメソッドで[0, 1, 2, 3, 4, 5]という一次元配列を作成し、\n",
        "# numpy.reshapeというメソッドで配列の形状を2x3にします。\n",
        "\n",
        "six_reshape = np.arange(6).reshape(2, 3)\n",
        "six_reshape"
      ],
      "metadata": {
        "colab": {
          "base_uri": "https://localhost:8080/"
        },
        "id": "Zvw1Vj3XWnUB",
        "outputId": "7e5b64b6-8890-4a81-ddaf-429046fd7828"
      },
      "execution_count": 3,
      "outputs": [
        {
          "output_type": "execute_result",
          "data": {
            "text/plain": [
              "array([[0, 1, 2],\n",
              "       [3, 4, 5]])"
            ]
          },
          "metadata": {},
          "execution_count": 3
        }
      ]
    },
    {
      "cell_type": "code",
      "source": [
        "import numpy as np"
      ],
      "metadata": {
        "id": "IS9rkPTRXsf_"
      },
      "execution_count": 2,
      "outputs": []
    },
    {
      "cell_type": "code",
      "source": [
        "# ブロードキャスト機能を使って1を足す\n",
        "six_reshape + 1"
      ],
      "metadata": {
        "colab": {
          "base_uri": "https://localhost:8080/"
        },
        "id": "AiIKl_eWaKZY",
        "outputId": "12749392-9d98-4064-fe2a-a6de6596ce02"
      },
      "execution_count": 4,
      "outputs": [
        {
          "output_type": "execute_result",
          "data": {
            "text/plain": [
              "array([[1, 2, 3],\n",
              "       [4, 5, 6]])"
            ]
          },
          "metadata": {},
          "execution_count": 4
        }
      ]
    },
    {
      "cell_type": "code",
      "source": [
        "# ブロードキャスト機能を使わず書く\n",
        "si_reshape + np.array([[1, 0, 2],[1, 0, 2]])"
      ],
      "metadata": {
        "id": "BePGx-Kdhbg7"
      },
      "execution_count": null,
      "outputs": []
    },
    {
      "cell_type": "code",
      "source": [
        "# 引き算\n",
        "import numpy as np\n",
        "\n",
        "five_full = np.full(5, 5)\n",
        "five_full\n",
        "\n",
        "\n"
      ],
      "metadata": {
        "colab": {
          "base_uri": "https://localhost:8080/"
        },
        "id": "mzeWfX5Lo0DE",
        "outputId": "78e48d21-07a0-4e9b-dd63-5398a0f22b1d"
      },
      "execution_count": 2,
      "outputs": [
        {
          "output_type": "execute_result",
          "data": {
            "text/plain": [
              "array([5, 5, 5, 5, 5])"
            ]
          },
          "metadata": {},
          "execution_count": 2
        }
      ]
    },
    {
      "cell_type": "code",
      "source": [
        "# 一次元配列から値を引きます。まずは、ブロードキャスト機能を使って以下のような引き算をしてみましょう。\n",
        "five_full -2\n"
      ],
      "metadata": {
        "colab": {
          "base_uri": "https://localhost:8080/"
        },
        "id": "P1cPW3IerWbR",
        "outputId": "514cbdd3-0474-487b-f266-856defe6fef1"
      },
      "execution_count": 3,
      "outputs": [
        {
          "output_type": "execute_result",
          "data": {
            "text/plain": [
              "array([3, 3, 3, 3, 3])"
            ]
          },
          "metadata": {},
          "execution_count": 3
        }
      ]
    },
    {
      "cell_type": "code",
      "source": [
        "# すべての要素から2を引いた一次元配列が返されました。\n",
        "# 次にブロードキャスト機能を使わず、以下のようにも書けます。\n",
        "five_full - np.array([1, 2, 3, 4, 5])"
      ],
      "metadata": {
        "colab": {
          "base_uri": "https://localhost:8080/"
        },
        "id": "OO6am2aBrhl5",
        "outputId": "aab6082a-331a-45fc-a8d9-f029325ae32e"
      },
      "execution_count": 4,
      "outputs": [
        {
          "output_type": "execute_result",
          "data": {
            "text/plain": [
              "array([4, 3, 2, 1, 0])"
            ]
          },
          "metadata": {},
          "execution_count": 4
        }
      ]
    },
    {
      "cell_type": "code",
      "source": [
        "# 掛け算\n",
        "import numpy as np\n"
      ],
      "metadata": {
        "id": "On7vtr7gsP4O"
      },
      "execution_count": 6,
      "outputs": []
    },
    {
      "cell_type": "code",
      "source": [
        "ten = np.arange(6).reshape(2, 3)\n",
        "ten"
      ],
      "metadata": {
        "colab": {
          "base_uri": "https://localhost:8080/"
        },
        "id": "0jABTM0PsXCX",
        "outputId": "eea4eb3f-0c7b-473a-d70a-e473bcfc9143"
      },
      "execution_count": 19,
      "outputs": [
        {
          "output_type": "execute_result",
          "data": {
            "text/plain": [
              "array([[0, 1, 2],\n",
              "       [3, 4, 5]])"
            ]
          },
          "metadata": {},
          "execution_count": 19
        }
      ]
    },
    {
      "cell_type": "markdown",
      "source": [
        "ten = [0, 1, 2, 3, 4, 5, 6, 7 ,8, 9]\n",
        "ten = * 3\n",
        "= [0, 1, 2, 3, 4, 5, 6, 7 ,8, 9] × [3, 3, 3, 3, 3, 3, 3, 3, 3]がブロードキャスト機能\n"
      ],
      "metadata": {
        "id": "A8r-JvMQso7m"
      }
    },
    {
      "cell_type": "code",
      "source": [
        "# 記述コード\n",
        "ten * 3"
      ],
      "metadata": {
        "colab": {
          "base_uri": "https://localhost:8080/"
        },
        "id": "__xaNdIAtDN8",
        "outputId": "7c5108cf-5230-4add-f97b-b375727eacb4"
      },
      "execution_count": 20,
      "outputs": [
        {
          "output_type": "execute_result",
          "data": {
            "text/plain": [
              "array([[ 0,  3,  6],\n",
              "       [ 9, 12, 15]])"
            ]
          },
          "metadata": {},
          "execution_count": 20
        }
      ]
    },
    {
      "cell_type": "code",
      "source": [
        "# ブロードキャスト機能を使わずにかける\n",
        "ten * np.array([[1, 2, 2], [2, 3, 3]])"
      ],
      "metadata": {
        "colab": {
          "base_uri": "https://localhost:8080/"
        },
        "id": "lyEE0_q2tREQ",
        "outputId": "a4ed85db-6148-4cc8-eb02-03404bcf4270"
      },
      "execution_count": 30,
      "outputs": [
        {
          "output_type": "execute_result",
          "data": {
            "text/plain": [
              "array([[ 0,  2,  4],\n",
              "       [ 6, 12, 15]])"
            ]
          },
          "metadata": {},
          "execution_count": 30
        }
      ]
    },
    {
      "cell_type": "code",
      "source": [
        "# 割り算\n",
        "\n",
        "div_six = np.arange(6).reshape(2, 3)\n",
        "div_six"
      ],
      "metadata": {
        "colab": {
          "base_uri": "https://localhost:8080/"
        },
        "id": "MccX3u5mu-3W",
        "outputId": "59f674c0-1742-4c11-d4ef-0a0ec8882a62"
      },
      "execution_count": 35,
      "outputs": [
        {
          "output_type": "execute_result",
          "data": {
            "text/plain": [
              "array([[0, 1, 2],\n",
              "       [3, 4, 5]])"
            ]
          },
          "metadata": {},
          "execution_count": 35
        }
      ]
    },
    {
      "cell_type": "code",
      "source": [
        "# ブロードキャストを使う\n",
        "div_six / 2"
      ],
      "metadata": {
        "colab": {
          "base_uri": "https://localhost:8080/"
        },
        "id": "bpb_0ToOwOEK",
        "outputId": "90b152b3-f1c4-4164-aac8-1eb05369be42"
      },
      "execution_count": 38,
      "outputs": [
        {
          "output_type": "execute_result",
          "data": {
            "text/plain": [
              "array([[0. , 0.5, 1. ],\n",
              "       [1.5, 2. , 2.5]])"
            ]
          },
          "metadata": {},
          "execution_count": 38
        }
      ]
    },
    {
      "cell_type": "code",
      "source": [
        "# ブロードキャストを使わない\n",
        "div_six / np.array([[2, 2, 2],[2, 2, 2]])"
      ],
      "metadata": {
        "colab": {
          "base_uri": "https://localhost:8080/"
        },
        "id": "YI3n9ObowUza",
        "outputId": "4c7dadac-7669-4923-9499-fc55b10eda86"
      },
      "execution_count": 40,
      "outputs": [
        {
          "output_type": "execute_result",
          "data": {
            "text/plain": [
              "array([[0. , 0.5, 1. ],\n",
              "       [1.5, 2. , 2.5]])"
            ]
          },
          "metadata": {},
          "execution_count": 40
        }
      ]
    },
    {
      "cell_type": "markdown",
      "source": [
        "3.7 行列演算\n",
        "\n"
      ],
      "metadata": {
        "id": "PFmqtuQJzimG"
      }
    },
    {
      "cell_type": "code",
      "source": [
        "# numpy.dotを使って積を出す\n",
        "A = np.array([[4, 7, 2],[1, 2, 1]])\n",
        "B = np.array([[2, 3, 3],[4, 5, 2],[9, 2, 1]])\n",
        "np.dot(A, B)"
      ],
      "metadata": {
        "colab": {
          "base_uri": "https://localhost:8080/"
        },
        "id": "tDz9XxVqztEk",
        "outputId": "c11c63ab-9280-430d-8ea1-6a2b252c7f86"
      },
      "execution_count": 41,
      "outputs": [
        {
          "output_type": "execute_result",
          "data": {
            "text/plain": [
              "array([[54, 51, 28],\n",
              "       [19, 15,  8]])"
            ]
          },
          "metadata": {},
          "execution_count": 41
        }
      ]
    },
    {
      "cell_type": "markdown",
      "source": [
        "NumPyを使って逆行列を求める\n"
      ],
      "metadata": {
        "id": "XTwur2rZ2ZEK"
      }
    },
    {
      "cell_type": "code",
      "source": [
        "# NymPyを使って、ある行列を単位行列に変換する「逆行列」を求めるには\n",
        "# numpy.linalg.invメソッドを使います。\n",
        "#  逆行列を求めるメゾットをインポート\n",
        "from numpy.linalg import inv\n",
        "A = np.array([[1, 1, 0],[0, 1, 0],[0, 0, 1]])\n",
        "ainv = inv(A)\n",
        "ainv"
      ],
      "metadata": {
        "colab": {
          "base_uri": "https://localhost:8080/"
        },
        "id": "kWc9w_yF2aRw",
        "outputId": "76da16b9-92e0-4c7d-df66-8ece652b3fa2"
      },
      "execution_count": 43,
      "outputs": [
        {
          "output_type": "execute_result",
          "data": {
            "text/plain": [
              "array([[ 1., -1.,  0.],\n",
              "       [ 0.,  1.,  0.],\n",
              "       [ 0.,  0.,  1.]])"
            ]
          },
          "metadata": {},
          "execution_count": 43
        }
      ]
    },
    {
      "cell_type": "code",
      "source": [
        "# この逆行列ainvと行列Aを掛けて本当に単位行列になるか確かめる\n",
        "np.dot(A, ainv)"
      ],
      "metadata": {
        "colab": {
          "base_uri": "https://localhost:8080/"
        },
        "id": "RNGKiOPS3VYw",
        "outputId": "94ebf262-3ad0-41ed-a0da-786ae2a7ea89"
      },
      "execution_count": 45,
      "outputs": [
        {
          "output_type": "execute_result",
          "data": {
            "text/plain": [
              "array([[1., 0., 0.],\n",
              "       [0., 1., 0.],\n",
              "       [0., 0., 1.]])"
            ]
          },
          "metadata": {},
          "execution_count": 45
        }
      ]
    },
    {
      "cell_type": "markdown",
      "source": [
        "3.8 合計・標準偏差などの計算\n",
        "一次元配列、多次元配列の合計、中央値、標準偏差などの統計量を求めます。これらの処理は統計や機械学習では頻繁に使うため、ぜひ覚えておきましょう。"
      ],
      "metadata": {
        "id": "uu5asffY40K6"
      }
    },
    {
      "cell_type": "code",
      "source": [
        "# 合計値を計算する\n",
        "# まず配列の合計を求めるnumpy.sumメソッド\n",
        "a = np.array([1, 2, 3])\n",
        "np.sum(a)"
      ],
      "metadata": {
        "colab": {
          "base_uri": "https://localhost:8080/"
        },
        "id": "6VWoPvOZ44WE",
        "outputId": "4c16aded-4993-4a4c-c8b2-4b07fcd8c939"
      },
      "execution_count": 47,
      "outputs": [
        {
          "output_type": "execute_result",
          "data": {
            "text/plain": [
              "6"
            ]
          },
          "metadata": {},
          "execution_count": 47
        }
      ]
    },
    {
      "cell_type": "markdown",
      "source": [
        "次元配列の合計値を求める方法です。これには3種類あります。"
      ],
      "metadata": {
        "id": "f8EpZ5Uy5Vvs"
      }
    },
    {
      "cell_type": "code",
      "source": [
        "# 全要素を足す方法\n",
        "a = ([14, 8, 11, 10], [7, 9, 10, 11],[10, 15, 5, 10])\n",
        "np.sum(a)\n"
      ],
      "metadata": {
        "colab": {
          "base_uri": "https://localhost:8080/"
        },
        "id": "cjaguP_q5ZSi",
        "outputId": "fbd1ed23-0d3c-4674-f254-99858ac3fd44"
      },
      "execution_count": 48,
      "outputs": [
        {
          "output_type": "execute_result",
          "data": {
            "text/plain": [
              "120"
            ]
          },
          "metadata": {},
          "execution_count": 48
        }
      ]
    },
    {
      "cell_type": "markdown",
      "source": [
        "上記は\n",
        "a = ([14, 8, 11, 10], [7, 9, 10, 11],[10, 15, 5, 10])\n",
        "np.sum(a)\n",
        "＝１４＋８＋１１＋１０＋９＋１０＋１１＋１０＋１５＋５＋１０＝１２０"
      ],
      "metadata": {
        "id": "m0E5_DD55tsI"
      }
    },
    {
      "cell_type": "code",
      "source": [
        "# 　配列aを列で足す方法です。これは、axis=0を引数として与えます。\n",
        "np.sum(a, axis=0)\n"
      ],
      "metadata": {
        "colab": {
          "base_uri": "https://localhost:8080/"
        },
        "id": "9e6hqOv96CxR",
        "outputId": "9445f6a6-107e-4427-e0d8-047427a9f655"
      },
      "execution_count": 49,
      "outputs": [
        {
          "output_type": "execute_result",
          "data": {
            "text/plain": [
              "array([31, 32, 26, 31])"
            ]
          },
          "metadata": {},
          "execution_count": 49
        }
      ]
    },
    {
      "cell_type": "code",
      "source": [
        "np.sum(a, axis=1)"
      ],
      "metadata": {
        "colab": {
          "base_uri": "https://localhost:8080/"
        },
        "id": "kzrtStD37Mb8",
        "outputId": "91567e11-2048-41b8-b4a1-5b84d7fbb759"
      },
      "execution_count": 50,
      "outputs": [
        {
          "output_type": "execute_result",
          "data": {
            "text/plain": [
              "array([43, 37, 40])"
            ]
          },
          "metadata": {},
          "execution_count": 50
        }
      ]
    },
    {
      "cell_type": "markdown",
      "source": [
        "中央値を計算する\n",
        "一次元配列aの中央値を求める方法を紹介します。中央値とは、データを小さい数から大きい数へ並べたときの中央にある数字のことです。\n",
        "\n",
        "偶数の場合は2つの数字の平均となります。平均とは違ってデータのノイズ（居所的に大きい値や小さい値の外れ値）に左右されないところがメリットです。\n",
        "\n",
        "では、実際に配列aの中央値を求めましょう。"
      ],
      "metadata": {
        "id": "0XM52oYb8xvm"
      }
    },
    {
      "cell_type": "code",
      "source": [
        "# 配列aの中央値を求める\n",
        "\n",
        "a = np.array([1, 2, 3, 4])\n",
        "np.median(a)\n",
        "# 結果として中央値は2と3の平均である2.5であることが確認できました。"
      ],
      "metadata": {
        "colab": {
          "base_uri": "https://localhost:8080/"
        },
        "id": "wIDGj-Ao81zb",
        "outputId": "c2f14712-f81d-47d6-d7c2-57ead7364b33"
      },
      "execution_count": 54,
      "outputs": [
        {
          "output_type": "execute_result",
          "data": {
            "text/plain": [
              "2.5"
            ]
          },
          "metadata": {},
          "execution_count": 54
        }
      ]
    },
    {
      "cell_type": "markdown",
      "source": [
        "標準偏差を計算する\n",
        "標準偏差とはデータのばらつきを表現する尺度です。平均からどれくらいデータがばらついているかを表します。\n",
        "\n",
        "たとえば例えば、平均が10で標準偏差が5だとしたら、平均10±5のあたりに大体の値が存在するということを意味します。\n",
        "\n",
        "では、実際に配列aの標準偏差を求めましょう。"
      ],
      "metadata": {
        "id": "XkxFVLqv9jRY"
      }
    },
    {
      "cell_type": "code",
      "source": [
        "a = np.array([1, 2, 3, 4, 5])\n",
        "np.std(a)\n",
        "# この結果は、平均点から約±1.412のところに大体の値が収まることを意味しています。"
      ],
      "metadata": {
        "colab": {
          "base_uri": "https://localhost:8080/"
        },
        "id": "ISu9zjVg9mLz",
        "outputId": "1334f95e-0362-41b4-d6de-51d0ead45ec2"
      },
      "execution_count": 53,
      "outputs": [
        {
          "output_type": "execute_result",
          "data": {
            "text/plain": [
              "1.4142135623730951"
            ]
          },
          "metadata": {},
          "execution_count": 53
        }
      ]
    },
    {
      "cell_type": "markdown",
      "source": [
        "3.9 NumPyを使った画像処理"
      ],
      "metadata": {
        "id": "38y9TiF196yq"
      }
    },
    {
      "cell_type": "code",
      "source": [
        "from PIL import Image\n",
        "import numpy as np\n",
        "\n",
        "# 画像を読み込む\n",
        "im = Image.open(\"camera.jpg\")\n",
        "im = im.resize((im.width //2, im.height //2)) # 元の画像はデカいので縮小\n",
        "im\n",
        "#"
      ],
      "metadata": {
        "colab": {
          "base_uri": "https://localhost:8080/",
          "height": 371
        },
        "id": "C_6puyKs-22S",
        "outputId": "54fe33e2-6b57-4293-beb2-239c694a5003"
      },
      "execution_count": 63,
      "outputs": [
        {
          "output_type": "error",
          "ename": "FileNotFoundError",
          "evalue": "[Errno 2] No such file or directory: 'camera.jpg'",
          "traceback": [
            "\u001b[0;31m---------------------------------------------------------------------------\u001b[0m",
            "\u001b[0;31mFileNotFoundError\u001b[0m                         Traceback (most recent call last)",
            "\u001b[0;32m<ipython-input-63-cfe33af1452e>\u001b[0m in \u001b[0;36m<cell line: 5>\u001b[0;34m()\u001b[0m\n\u001b[1;32m      3\u001b[0m \u001b[0;34m\u001b[0m\u001b[0m\n\u001b[1;32m      4\u001b[0m \u001b[0;31m# 画像を読み込む\u001b[0m\u001b[0;34m\u001b[0m\u001b[0;34m\u001b[0m\u001b[0m\n\u001b[0;32m----> 5\u001b[0;31m \u001b[0mim\u001b[0m \u001b[0;34m=\u001b[0m \u001b[0mImage\u001b[0m\u001b[0;34m.\u001b[0m\u001b[0mopen\u001b[0m\u001b[0;34m(\u001b[0m\u001b[0;34m\"camera.jpg\"\u001b[0m\u001b[0;34m)\u001b[0m\u001b[0;34m\u001b[0m\u001b[0;34m\u001b[0m\u001b[0m\n\u001b[0m\u001b[1;32m      6\u001b[0m \u001b[0mim\u001b[0m \u001b[0;34m=\u001b[0m \u001b[0mim\u001b[0m\u001b[0;34m.\u001b[0m\u001b[0mresize\u001b[0m\u001b[0;34m(\u001b[0m\u001b[0;34m(\u001b[0m\u001b[0mim\u001b[0m\u001b[0;34m.\u001b[0m\u001b[0mwidth\u001b[0m \u001b[0;34m//\u001b[0m\u001b[0;36m2\u001b[0m\u001b[0;34m,\u001b[0m \u001b[0mim\u001b[0m\u001b[0;34m.\u001b[0m\u001b[0mheight\u001b[0m \u001b[0;34m//\u001b[0m\u001b[0;36m2\u001b[0m\u001b[0;34m)\u001b[0m\u001b[0;34m)\u001b[0m \u001b[0;31m# 元の画像はデカいので縮小\u001b[0m\u001b[0;34m\u001b[0m\u001b[0;34m\u001b[0m\u001b[0m\n\u001b[1;32m      7\u001b[0m \u001b[0mim\u001b[0m\u001b[0;34m\u001b[0m\u001b[0;34m\u001b[0m\u001b[0m\n",
            "\u001b[0;32m/usr/local/lib/python3.10/dist-packages/PIL/Image.py\u001b[0m in \u001b[0;36mopen\u001b[0;34m(fp, mode, formats)\u001b[0m\n\u001b[1;32m   3225\u001b[0m \u001b[0;34m\u001b[0m\u001b[0m\n\u001b[1;32m   3226\u001b[0m     \u001b[0;32mif\u001b[0m \u001b[0mfilename\u001b[0m\u001b[0;34m:\u001b[0m\u001b[0;34m\u001b[0m\u001b[0;34m\u001b[0m\u001b[0m\n\u001b[0;32m-> 3227\u001b[0;31m         \u001b[0mfp\u001b[0m \u001b[0;34m=\u001b[0m \u001b[0mbuiltins\u001b[0m\u001b[0;34m.\u001b[0m\u001b[0mopen\u001b[0m\u001b[0;34m(\u001b[0m\u001b[0mfilename\u001b[0m\u001b[0;34m,\u001b[0m \u001b[0;34m\"rb\"\u001b[0m\u001b[0;34m)\u001b[0m\u001b[0;34m\u001b[0m\u001b[0;34m\u001b[0m\u001b[0m\n\u001b[0m\u001b[1;32m   3228\u001b[0m         \u001b[0mexclusive_fp\u001b[0m \u001b[0;34m=\u001b[0m \u001b[0;32mTrue\u001b[0m\u001b[0;34m\u001b[0m\u001b[0;34m\u001b[0m\u001b[0m\n\u001b[1;32m   3229\u001b[0m \u001b[0;34m\u001b[0m\u001b[0m\n",
            "\u001b[0;31mFileNotFoundError\u001b[0m: [Errno 2] No such file or directory: 'camera.jpg'"
          ]
        }
      ]
    },
    {
      "cell_type": "markdown",
      "source": [
        "課題　numpyで配列の操作や演算をしよう"
      ],
      "metadata": {
        "id": "b--ou0d7GjtW"
      }
    },
    {
      "cell_type": "code",
      "source": [
        "#numpyのインポートを実行\n",
        "import numpy as np\n",
        "\n",
        "# AとBの行列を格納する多次元配列のコードを書く\n",
        "A = ([0, 1],[2, 3],[4,5])\n",
        "B = ([0, 1, 2, 3],[4, 5, 6, 7])\n",
        "np.dot(A, B)"
      ],
      "metadata": {
        "colab": {
          "base_uri": "https://localhost:8080/"
        },
        "id": "kHNrT-S8Gadz",
        "outputId": "c058d4b3-ca55-4e55-b1c6-93a95e47e865"
      },
      "execution_count": 2,
      "outputs": [
        {
          "output_type": "execute_result",
          "data": {
            "text/plain": [
              "array([[ 4,  5,  6,  7],\n",
              "       [12, 17, 22, 27],\n",
              "       [20, 29, 38, 47]])"
            ]
          },
          "metadata": {},
          "execution_count": 2
        }
      ]
    },
    {
      "cell_type": "code",
      "source": [
        "# 最大値を求めるコードを書く\n",
        "a = ([[ 4,  5,  6,  7],\n",
        "       [12, 17, 22, 27],\n",
        "       [20, 29, 38, 47]])\n",
        "np.max(a)"
      ],
      "metadata": {
        "colab": {
          "base_uri": "https://localhost:8080/"
        },
        "id": "mo3JUcy3MPO-",
        "outputId": "5e5ba2b1-5bdc-4efd-f500-0ce2a6016bfc"
      },
      "execution_count": 14,
      "outputs": [
        {
          "output_type": "execute_result",
          "data": {
            "text/plain": [
              "47"
            ]
          },
          "metadata": {},
          "execution_count": 14
        }
      ]
    }
  ]
}