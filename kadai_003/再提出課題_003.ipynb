{
  "nbformat": 4,
  "nbformat_minor": 0,
  "metadata": {
    "colab": {
      "provenance": []
    },
    "kernelspec": {
      "name": "python3",
      "display_name": "Python 3"
    },
    "language_info": {
      "name": "python"
    }
  },
  "cells": [
    {
      "cell_type": "code",
      "execution_count": 2,
      "metadata": {
        "colab": {
          "base_uri": "https://localhost:8080/"
        },
        "id": "LpSPB07bAXFg",
        "outputId": "bd756189-4689-426b-82ab-4bbe18c53eec"
      },
      "outputs": [
        {
          "output_type": "execute_result",
          "data": {
            "text/plain": [
              "array([[ 4,  5,  6,  7],\n",
              "       [12, 17, 22, 27],\n",
              "       [20, 29, 38, 47]])"
            ]
          },
          "metadata": {},
          "execution_count": 2
        }
      ],
      "source": [
        "#numpyのインポートを実行\n",
        "import numpy as np\n",
        "\n",
        "# AとBの行列を格納する多次元配列のコードを書く\n",
        "A = ([0, 1],[2, 3],[4,5])\n",
        "B = ([0, 1, 2, 3],[4, 5, 6, 7])\n",
        "np.dot(A, B)"
      ]
    },
    {
      "cell_type": "code",
      "source": [
        "# 最大値を求めるコードを書く\n",
        "a = ([[ 4,  5,  6,  7],\n",
        "       [12, 17, 22, 27],\n",
        "       [20, 29, 38, 47]])\n",
        "np.max(a)"
      ],
      "metadata": {
        "colab": {
          "base_uri": "https://localhost:8080/"
        },
        "id": "I9g9ODOKBIxv",
        "outputId": "140b5286-f95c-4f4e-ebf1-b7ba5352c39f"
      },
      "execution_count": 3,
      "outputs": [
        {
          "output_type": "execute_result",
          "data": {
            "text/plain": [
              "47"
            ]
          },
          "metadata": {},
          "execution_count": 3
        }
      ]
    }
  ]
}